{
 "cells": [
  {
   "cell_type": "code",
   "execution_count": 1,
   "metadata": {},
   "outputs": [
    {
     "data": {
      "text/plain": [
       "'\\nRoutine to process data of a particle with slip condition using rigid nultiblob method.                 \\n@author: Nicolas Moreno - nmoreno@bcamath.org                               \\n'"
      ]
     },
     "execution_count": 1,
     "metadata": {},
     "output_type": "execute_result"
    }
   ],
   "source": [
    "\"\"\"\n",
    "Routine to process data of a particle with slip condition using rigid nultiblob method.                 \n",
    "@author: Nicolas Moreno - nmoreno@bcamath.org                               \n",
    "\"\"\""
   ]
  },
  {
   "cell_type": "code",
   "execution_count": 2,
   "metadata": {},
   "outputs": [
    {
     "name": "stdout",
     "output_type": "stream",
     "text": [
      "createVirus: Running from another script\n"
     ]
    }
   ],
   "source": [
    "##Import some basic python libraries \n",
    "import pandas as pd\n",
    "import numpy as np\n",
    "import os, sys, re\n",
    "from matplotlib import pyplot as plt\n",
    "##import pylab as plt\n",
    "\n",
    "##Python script to generate mesh\n",
    "sys.path.append('./sidmanager')\n",
    "import createVirusPoints as cvp"
   ]
  },
  {
   "cell_type": "code",
   "execution_count": 3,
   "metadata": {},
   "outputs": [],
   "source": [
    "# Definition of useful functions \n",
    "#Functions to separate a 6x6 matrix dat into three sub 3x3 matrix. t: translation, r:rotational, c: coupling\n",
    "def M(dat):\n",
    "    mt = dat.values[0:3,0:3]\n",
    "    mr = dat.values[3:,3:]\n",
    "    mc = dat.values[0:3,3:]\n",
    "    return mt,mr,mc\n",
    "\n",
    "def K(dat):\n",
    "    kt = dat[0:3,0:3]\n",
    "    kr = dat[3:,3:]\n",
    "    kc = dat[0:3,3:]\n",
    "    return kt,kr,kc\n",
    "\n"
   ]
  },
  {
   "cell_type": "code",
   "execution_count": 4,
   "metadata": {},
   "outputs": [
    {
     "data": {
      "text/plain": [
       "(array([1. , 0.9, 0.7]), 0.5, 0.3, 7.246376811594202, 4.3478260869565215)"
      ]
     },
     "execution_count": 4,
     "metadata": {},
     "output_type": "execute_result"
    }
   ],
   "source": [
    "# Definition of variables or parameters to study\n",
    "sids = [2] #simulation id, this is the identifier for each simulation. For example 4 simualations names 1-4\n",
    "Rs = [1]\n",
    "rosinit  = [0.2]\n",
    "resol = 0.069\n",
    "coarseIcosphere = [12,42,162,642,2562,10242]  ##Number of points per icosaedrha scale finitely with these sequence\n",
    "\n",
    "rcovid = np.array([48.0, 43.0, 33.0])\n",
    "lspike = 25.0\n",
    "rspike = 15.0\n",
    "\n",
    "lspike = np.round(lspike/rcovid[0],1)\n",
    "rspike = np.round(rspike/rcovid[0],1)\n",
    "rcovid = np.round(rcovid/rcovid[0],1)\n",
    "\n",
    "\n",
    "rcovid,lspike,rspike, lspike/resol, rspike/resol"
   ]
  },
  {
   "cell_type": "code",
   "execution_count": 5,
   "metadata": {
    "scrolled": false
   },
   "outputs": [
    {
     "name": "stdout",
     "output_type": "stream",
     "text": [
      "1 number of solvent types\n",
      "gen core\n",
      "Current ro 1.0514622242382672\n",
      "Current ro 0.5465330578253433 - Iteration 1, points 42\n",
      "Current ro 0.2759044842552674 - Iteration 2, points 162\n",
      "Current ro 0.13828317354716765 - Iteration 3, points 642\n",
      "shell with 642 particles\n",
      "ps input 0, recomputed -0.6123724356957945 , sideN-1.0\n",
      "gen inner particles in colloid\n",
      "0.13828317354716765 ['0.008000000000000002', '0.008000000000000002', '0.008000000000000002', '0.008000000000000002']\n",
      "Current ro 1.0514622242382672\n",
      "Current ro 0.5465330578253433 - Iteration 1, points 654\n",
      "Current ro 0.2759044842552674 - Iteration 2, points 654\n",
      "Current ro 0.13828317354716765 - Iteration 3, points 654\n",
      "solvent to delete 524, with dh 0.2\n",
      "15101 0 15101\n"
     ]
    }
   ],
   "source": [
    "# Running the structure generating script\n",
    "ros = []\n",
    "for i in range(0,len(sids)):\n",
    "    \n",
    "    oFile = 'RigidMultiblobsWall/multi_bodies/Structures/virus%s' % sids[i]\n",
    "    R  = Rs[i]      # Radius of the core/capsid\n",
    "    ro = rosinit[i] # Distance between points of the structure. If isosurface for shell, ro is recomputed \n",
    "                    # in general leading to same or smaller ro\n",
    "    RP = R          # Outer radius to start growing viral spikes\n",
    "    rop = 5         # ratio between spikes distance rspikes and ro. (this define density of spikes). rspikes = ro*rop\n",
    "                    # If using distribution 0 or 1 is used to define the discrete set of points where spikes can be\n",
    "                    # located. It is needed to take into account that number of equidistant points in a sphere scale \n",
    "                    # discretely 12,42,162,642,2562,10242. Depending on the ratio between R and ro.\n",
    "    nspikes = 0     # number of spikes defined directly for random distributed spikes otherwise rop is used\n",
    "    pType =  0      # spike type 0: none, 1: rod, 2: rod-tetra, 3: rod-sphere, 4: sphere, 5: tetra mesh, 6:coarse tetra only 4 particles per spike\n",
    "    ps = 0          # radius of spike / R. When using rod-spheres or rodtetrahedra. Given by ps*ro (or ro_recomputed)\n",
    "    shell = 0      # flag to change the type of capsid. Dense or shell only. \n",
    "                   # 0 or 2 : only shell with equidistant points. 0: also creates randomly filled core\n",
    "                   # 1 or 3 for filled core. 3: equidistant points in core, 1: random distributed filled core \n",
    "    loc = 0.5      # location of the center of mass of the virus loc = position cm / size box\n",
    "    lp  = 0.5      # ratio spike lenght/R (number of points) of the spike\n",
    "    eps1 = 2       # wavelength 1 for deformed sphere\n",
    "    eps2 = 5       # wavelength 2 for deformed sphere\n",
    "    deform=False   # Deformed core\n",
    "    dist =0        # Distribution of spikes around core. 0: homogeneous, 1: random distributed on discrete mesh\n",
    "                                                                     # 2: random in an outer shell (no discrete)\n",
    "    patchFrac=0\n",
    "    lp2 = 0\n",
    "    simType='xyz'  #Type of file - xyz or colloid or sdpd. xyz creates both xyz and dpd file. whereas colloid and sdpd only those\n",
    "                   #visualize data files using ovito to verify shapes.\n",
    "\n",
    "    genBlender = True   ## if the xyz file to use for blender rendering need to be generated\n",
    "                        ## If sdpdm the following parameters are needed \n",
    "    lbox = 5            # size of the periodic box for sdpd simulations\n",
    "    bandid = 0  \n",
    "    ellips = False      #TRue for covid like core shape\n",
    "    rhoN = np.round(1./ro**3,0) #particle density of dpd/sdpd simulations \n",
    "    m = ro**3                   #mass of the particle for dpd/sdpd simulations\n",
    "    masses = '%s,%s,%s,%s' %(m,m,m,m)\n",
    "    xi = 1\n",
    "    alpharange = 0\n",
    "    data = cvp.dataFile(oFile, 3,lbox, R,RP,masses, rhoN, bandid, ellips, ro,rop,nspikes,lp,ps,deform,eps1,eps2,xi,alpharange, 1, 1., 1, \"1.0, 0.0, 0.0\", patchType=pType,shellOnly=shell,location=loc,ks=0,simtype=simType,distribution=dist, blender=genBlender, patchFrac=patchFrac, lp2=lp2)\n",
    "    data.atoms()\n",
    "    ros.append(data.ro)\n",
    "    dFile = 'RigidMultiblobsWall/multi_bodies/data/info%s' % sids[i]\n",
    "    f=open(dFile,\"w\")\n",
    "    f.write(\"ro %s\\n\" %data.ro)\n",
    "    f.write(\"nspikes %s\\n\" %nspikes)\n",
    "    f.write(\"Rp %s\\n\" %RP)\n",
    "    f.write(\"ps %s\\n\" %ps)\n",
    "    f.write(\"shell %s\\n\" %shell)\n",
    "    f.write(\"loc %s\\n\" %loc)\n",
    "    f.write(\"lp %s\\n\" %lp)\n",
    "    f.write(\"ellips %s\\n\" %ellips)\n",
    "    f.write(\"slip_length %s\\n\" %xi)\n",
    "    f.write(\"angle_range %s\\n\" %alpharange)\n",
    "\n",
    "\n",
    "    f.close()\n",
    "ros = np.array(ros)"
   ]
  },
  {
   "cell_type": "code",
   "execution_count": null,
   "metadata": {},
   "outputs": [],
   "source": [
    "\n",
    "\n"
   ]
  },
  {
   "cell_type": "code",
   "execution_count": 6,
   "metadata": {},
   "outputs": [
    {
     "name": "stdout",
     "output_type": "stream",
     "text": [
      "searching functions in path  RigidMultiblobsWall/\n",
      "cannot import name 'visit_writer_interface' from 'visit' (/home/dmoreno/RigidMultiblobsWall/visit/__init__.py)\n",
      "Creating structures =  RigidMultiblobsWall/multi_bodies/Structures/blob.clones\n",
      "Time to compute body mobility = 0.2997763156890869\n",
      "\n",
      "\n",
      "\n",
      "# End\n"
     ]
    }
   ],
   "source": [
    "# Running the code to compute mobility of the virus\n",
    "codefile = 'RigidMultiblobsWall/multi_bodies/multi_bodies_utilities.py'\n",
    "for i in range(0,len(sids)):\n",
    "    f = open(\"RigidMultiblobsWall/multi_bodies/inputfile_body_mobilityVirus.dat\", 'r')\n",
    "    output = open(\"RigidMultiblobsWall/multi_bodies/inputs/inputfile_body_mobilityVirus%s.dat\"%sids[i], 'w')\n",
    "    for line in f:\n",
    "        l = line\n",
    "        if re.match('blob_radius', l) != None:\n",
    "            output.write(\"blob_radius %s \\n\"%(ros[i]/2))\n",
    "        else:    \n",
    "            output.write(l.rstrip() + '\\n')\n",
    "    f.close()\n",
    "    output.close()\n",
    "    infile = 'RigidMultiblobsWall/multi_bodies/inputs/inputfile_body_mobilityVirus%s.dat' % sids[i]\n",
    "    os.system(\"python %s --input-file %s --idvir %s\" %(codefile,infile,sids[i]))"
   ]
  },
  {
   "cell_type": "code",
   "execution_count": 7,
   "metadata": {},
   "outputs": [],
   "source": [
    "ros2 = []\n",
    "for i in sids:\n",
    "    infFile = 'RigidMultiblobsWall/multi_bodies/data/info%s' % (i)        \n",
    "    inf = pd.read_csv(infFile,sep=' ',index_col=0,header=None).to_dict()#np.loadtxt(f)"
   ]
  },
  {
   "cell_type": "code",
   "execution_count": 8,
   "metadata": {},
   "outputs": [
    {
     "data": {
      "text/plain": [
       "(array([[[ 5.18112964e-02, -1.86268392e-18, -5.83020066e-18],\n",
       "         [ 1.86268392e-18,  5.18112964e-02, -1.09913962e-17],\n",
       "         [ 5.83020066e-18, -4.05850465e-17,  5.18112964e-02]]]),\n",
       " array([[[ 3.72024561e-02, -9.04102722e-19,  2.31587995e-17],\n",
       "         [-1.46356684e-17,  3.72024561e-02,  4.31063647e-17],\n",
       "         [-1.89891342e-17, -3.24899880e-18,  3.72024561e-02]]]),\n",
       " array([[[-2.86155004e-17, -5.04274958e-17,  7.14153014e-17],\n",
       "         [-8.12282936e-17, -1.07831461e-16,  9.78042520e-17],\n",
       "         [-1.30108287e-17, -5.31487226e-17,  5.92277066e-17]]]),\n",
       " [1.0239397855434618])"
      ]
     },
     "execution_count": 8,
     "metadata": {},
     "output_type": "execute_result"
    }
   ],
   "source": [
    "##this is an example of how to extrac the data from the files. this can iterate over all the sids or only those\n",
    "#of interest for example sids  = [1,2,3,4,5] for only index 1 to 5\n",
    "\n",
    "Mts = []\n",
    "Mrs = []\n",
    "Mcs = []\n",
    "RtX  = []\n",
    "RrotX = []\n",
    "RtY  = []\n",
    "RrotY = []\n",
    "RtZ  = []\n",
    "RrotZ = []\n",
    "ros2 = []\n",
    "Rtprom = []\n",
    "Rrotprom = []\n",
    "\n",
    "for i in sids:\n",
    "        dFile = 'RigidMultiblobsWall/multi_bodies/data/virusMob%s.body_mobility.dat' % (i)\n",
    "        infFile = 'RigidMultiblobsWall/multi_bodies/data/info%s' % (i)\n",
    "        dat = pd.read_csv(dFile,sep='  ',header=None,engine='python')#np.loadtxt(f)\n",
    "        inf = pd.read_csv(infFile,sep=' ',index_col=0,header=None,engine='python').to_dict()#np.loadtxt(f)\n",
    "        ros2.append(inf[1][\"ro\"])\n",
    "        mt,mr,mc = M(dat)  ##separate the matrix in three translation, rotation and coupling\n",
    "        valt,vect= np.linalg.eig(mt.T)  ##diagonalize each of the matrix\n",
    "        valr,vecr= np.linalg.eig(mr.T) \n",
    "        valc,vecc= np.linalg.eig(mc.T) \n",
    "        Mts.append(mt)\n",
    "        Mrs.append(mr)\n",
    "        Mcs.append(mc)\n",
    "#Axis X and Z are swiched from ellipsoids\n",
    "        RtX.append(1*xi/(mt[0,0]*6*np.pi))\n",
    "        #RrotX.append(1*xi/(mr[0,0]*8*np.pi)**(1/3.))\n",
    "        RtY.append(1*xi/(mt[1,1]*6*np.pi))\n",
    "        #RrotY.append(1/(mr[1,1]*8*np.pi)**(1/3.))\n",
    "        RtZ.append(1*xi/(mt[2,2]*6*np.pi))\n",
    "        #RrotZ.append(1/(mr[2,2]*8*np.pi)**(1/3.))\n",
    "        Rtprom.append((1/(((mt[0,0]+mt[1,1]+mt[2,2])/3)*6*np.pi)))\n",
    "        #Rrotprom.append(1/(((mr[0,0]+mr[1,1]+mr[2,2])/3)*8*np.pi)**(1/3.))\n",
    "Mts = np.array(Mts)\n",
    "Mrs = np.array(Mrs)\n",
    "Mcs = np.array(Mcs)\n",
    "ros2 = np.array(ros2,dtype=float)\n",
    "Rtprom\n",
    "Mts,Mrs,Mcs,RtX"
   ]
  },
  {
   "cell_type": "code",
   "execution_count": null,
   "metadata": {},
   "outputs": [],
   "source": []
  },
  {
   "cell_type": "code",
   "execution_count": null,
   "metadata": {},
   "outputs": [],
   "source": []
  }
 ],
 "metadata": {
  "kernelspec": {
   "display_name": "Python 3 (ipykernel)",
   "language": "python",
   "name": "python3"
  },
  "language_info": {
   "codemirror_mode": {
    "name": "ipython",
    "version": 3
   },
   "file_extension": ".py",
   "mimetype": "text/x-python",
   "name": "python",
   "nbconvert_exporter": "python",
   "pygments_lexer": "ipython3",
   "version": "3.9.12"
  }
 },
 "nbformat": 4,
 "nbformat_minor": 4
}
